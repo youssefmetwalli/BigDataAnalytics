{
  "nbformat": 4,
  "nbformat_minor": 0,
  "metadata": {
    "colab": {
      "provenance": [],
      "include_colab_link": true
    },
    "kernelspec": {
      "name": "python3",
      "display_name": "Python 3"
    },
    "language_info": {
      "name": "python"
    }
  },
  "cells": [
    {
      "cell_type": "markdown",
      "metadata": {
        "id": "view-in-github",
        "colab_type": "text"
      },
      "source": [
        "<a href=\"https://colab.research.google.com/github/youssefmetwalli/BigDataAnalytics/blob/main/Exercise_02.ipynb\" target=\"_parent\"><img src=\"https://colab.research.google.com/assets/colab-badge.svg\" alt=\"Open In Colab\"/></a>"
      ]
    },
    {
      "cell_type": "markdown",
      "source": [
        "#Topic 1: Basic Syntax for Markdown\n",
        "##1. Putting Headings:\n",
        "Select Markdown option instaed of code and execute the cell.\n"
      ],
      "metadata": {
        "id": "DCkf7M9P19iH"
      }
    },
    {
      "cell_type": "markdown",
      "source": [
        "\n",
        "\n",
        "```\n",
        "# Heading level 1\n",
        "## Heading level 2\n",
        "### Heading level 3\n",
        "#### Heading level 4\n",
        "##### Heading level 5\n",
        "###### Heading level 6\n",
        "# Write the above lines in a cell, choose the markdown instead of Code in\n",
        "# compile the markdown and print below code. DO NOT WRITE THESE LINES TO\n",
        "```\n",
        "\n",
        "\n",
        "\n",
        "# Heading level 1\n",
        "## Heading level 2\n",
        "### Heading level 3\n",
        "#### Heading level 4\n",
        "##### Heading level 5\n",
        "###### Heading level 6\n",
        "\n",
        "# write the above lines in a cell, choose the markdown instead of code in\n",
        "# Compile the markdown and print the below code. DO NOT WRITE THESE LINES TO\n",
        "\n",
        "\n"
      ],
      "metadata": {
        "id": "aA-DWsgM3XI9"
      }
    },
    {
      "cell_type": "markdown",
      "source": [
        "##2. Writing Bold letters\n",
        "remove # in the below text for markdown\n",
        "\n",
        "\n",
        "\n",
        "```\n",
        "#__two underscores before and after the text__\n",
        "```\n",
        "\n",
        "\n",
        "# __two underscores before and after the text__"
      ],
      "metadata": {
        "id": "QpW9mqMT5T3d"
      }
    },
    {
      "cell_type": "markdown",
      "source": [
        "##3. Writing italic letters\n",
        "\n",
        "\n",
        "```\n",
        "_single underscore before and after the text_\n",
        "```\n",
        "\n",
        "\n",
        "# _single underscore before and after the text_"
      ],
      "metadata": {
        "id": "nnOi8SBH5tp-"
      }
    },
    {
      "cell_type": "markdown",
      "source": [
        "##4. Dotted Points\n",
        "\n",
        "\n",
        "\n",
        "```\n",
        "- Dot before text\n",
        "- will print the text\n",
        "- with numbered point\n",
        "```\n",
        "\n",
        "\n",
        "- Dot before text\n",
        "- will print the text\n",
        "- with numbered point"
      ],
      "metadata": {
        "id": "P_N0cJy857Mz"
      }
    },
    {
      "cell_type": "markdown",
      "source": [
        "##5. Numbered points\n",
        "\n",
        "\n",
        "```\n",
        "1. sample\n",
        "2. text\n",
        "3. test\n",
        "```\n",
        "\n",
        "\n",
        "1. sample\n",
        "2. text\n",
        "3. test"
      ],
      "metadata": {
        "id": "Z0WFXmWL60gV"
      }
    },
    {
      "cell_type": "markdown",
      "source": [
        "##6. Creating Tables:\n",
        "\n",
        "\n",
        "```\n",
        "| Heading 1 | Heading 2 |\n",
        "| ----------| ----------|\n",
        "| 1 | xx |\n",
        "| 2 | yy |\n",
        "```\n",
        "\n",
        "\n",
        "| Heading 1 | Heading 2 |\n",
        "| ----------| ----------|\n",
        "| 1 | xx |\n",
        "| 2 | yy |"
      ],
      "metadata": {
        "id": "OAKuRdW86-9i"
      }
    },
    {
      "cell_type": "markdown",
      "source": [
        "##7. Images:\n",
        "\n",
        "\n",
        "```\n",
        "![Apple](apple_image.jpg)\n",
        "```\n",
        "\n",
        "\n",
        "![Apple](apple_image.jpg)"
      ],
      "metadata": {
        "id": "QTMdKY7L7cQ0"
      }
    },
    {
      "cell_type": "markdown",
      "source": [
        "##8. Underscore text\n",
        "\n",
        "\n",
        "```\n",
        "# <u>Underscore text </u>\n",
        "```\n",
        "<u>Underscore text </u>\n",
        "\n"
      ],
      "metadata": {
        "id": "2wHnCMxX78nG"
      }
    },
    {
      "cell_type": "markdown",
      "source": [
        "##9. Horizontal line\n",
        "\n",
        "\n",
        "```\n",
        "# ***\n",
        "```\n",
        "***\n",
        "\n"
      ],
      "metadata": {
        "id": "AWZ03ECy8WHa"
      }
    },
    {
      "cell_type": "markdown",
      "source": [
        "#Topic 2 : Basic Python Programming\n",
        "##Step 1: print \"Hello World\"\n",
        "\n",
        "\n",
        "\n"
      ],
      "metadata": {
        "id": "LLnokAR08snT"
      }
    },
    {
      "cell_type": "code",
      "source": [
        "print(\"Hello World\")"
      ],
      "metadata": {
        "colab": {
          "base_uri": "https://localhost:8080/"
        },
        "id": "b46Z9CT19HEu",
        "outputId": "249981b5-d7df-4773-fbb3-7450e97dda27"
      },
      "execution_count": null,
      "outputs": [
        {
          "output_type": "stream",
          "name": "stdout",
          "text": [
            "Hello World\n"
          ]
        }
      ]
    },
    {
      "cell_type": "markdown",
      "source": [
        "##Step 2: Create a Numeric Variable"
      ],
      "metadata": {
        "id": "QfczNsTM9LME"
      }
    },
    {
      "cell_type": "code",
      "source": [
        "a = 10"
      ],
      "metadata": {
        "id": "DxjpTCg89UTG"
      },
      "execution_count": null,
      "outputs": []
    },
    {
      "cell_type": "markdown",
      "source": [
        "##Step 3: Print above created variable"
      ],
      "metadata": {
        "id": "1bv6_KCK9ae8"
      }
    },
    {
      "cell_type": "code",
      "source": [
        "print(a)"
      ],
      "metadata": {
        "colab": {
          "base_uri": "https://localhost:8080/"
        },
        "id": "ANBleZWt9i5w",
        "outputId": "709f41d9-370b-4518-ff5b-6891cc3e87d1"
      },
      "execution_count": null,
      "outputs": [
        {
          "output_type": "stream",
          "name": "stdout",
          "text": [
            "10\n"
          ]
        }
      ]
    },
    {
      "cell_type": "markdown",
      "source": [
        "##Step 4: Print the type of above variable"
      ],
      "metadata": {
        "id": "M1yHOPfK9m10"
      }
    },
    {
      "cell_type": "code",
      "source": [
        "print(type(a))"
      ],
      "metadata": {
        "colab": {
          "base_uri": "https://localhost:8080/"
        },
        "id": "L0B90_Hp9qzv",
        "outputId": "2be48b25-eb87-47ac-d45f-a4cefbc93303"
      },
      "execution_count": null,
      "outputs": [
        {
          "output_type": "stream",
          "name": "stdout",
          "text": [
            "<class 'int'>\n"
          ]
        }
      ]
    },
    {
      "cell_type": "markdown",
      "source": [
        "##Step 5: Create a String Variable & Print"
      ],
      "metadata": {
        "id": "qQz-WqEx9tvP"
      }
    },
    {
      "cell_type": "code",
      "source": [
        "string = \"Hello\""
      ],
      "metadata": {
        "id": "oU8U3MqK9xXE"
      },
      "execution_count": null,
      "outputs": []
    },
    {
      "cell_type": "markdown",
      "source": [
        "###Step 5.1: Access 2nd element in above string"
      ],
      "metadata": {
        "id": "OThoya81ZFq6"
      }
    },
    {
      "cell_type": "code",
      "source": [
        "print(string[1])"
      ],
      "metadata": {
        "colab": {
          "base_uri": "https://localhost:8080/"
        },
        "id": "qIz_OC33bw73",
        "outputId": "1488c3de-a110-4093-90c9-1f2d7cc818fc"
      },
      "execution_count": null,
      "outputs": [
        {
          "output_type": "stream",
          "name": "stdout",
          "text": [
            "e\n"
          ]
        }
      ]
    },
    {
      "cell_type": "markdown",
      "source": [
        "###Step 5.2: Find the length of above string"
      ],
      "metadata": {
        "id": "1yNYHEK8b1BF"
      }
    },
    {
      "cell_type": "code",
      "source": [
        "print(len(string))"
      ],
      "metadata": {
        "colab": {
          "base_uri": "https://localhost:8080/"
        },
        "id": "T2zM5jjDb4KG",
        "outputId": "38c60983-6846-411b-fa6d-2e7bb698c0a9"
      },
      "execution_count": null,
      "outputs": [
        {
          "output_type": "stream",
          "name": "stdout",
          "text": [
            "5\n"
          ]
        }
      ]
    },
    {
      "cell_type": "markdown",
      "source": [
        "###Step 5.3: Create another String and compare the strings."
      ],
      "metadata": {
        "id": "EIbpyZ9hb7X1"
      }
    },
    {
      "cell_type": "code",
      "source": [
        "string2 = \"World\"\n",
        "if string == string2:\n",
        "  print(\"Both Strings are same.\")\n",
        "else:\n",
        "  print(\"Both Strings are not same.\")"
      ],
      "metadata": {
        "colab": {
          "base_uri": "https://localhost:8080/"
        },
        "id": "V_dDat9Hb-tZ",
        "outputId": "4d38cf66-ebf8-4d09-c5a4-a58e3f8b03d1"
      },
      "execution_count": null,
      "outputs": [
        {
          "output_type": "stream",
          "name": "stdout",
          "text": [
            "Both Strings are not same.\n"
          ]
        }
      ]
    },
    {
      "cell_type": "markdown",
      "source": [
        "###Step 5.4: Perform Concatenation operation"
      ],
      "metadata": {
        "id": "Yw6FDghlcIyc"
      }
    },
    {
      "cell_type": "code",
      "source": [
        "string3 = string + string2\n",
        "print(string3)"
      ],
      "metadata": {
        "colab": {
          "base_uri": "https://localhost:8080/"
        },
        "id": "-RxQH_uPcMp0",
        "outputId": "5388da8b-ca07-4fc2-f5f8-49214749b6b8"
      },
      "execution_count": null,
      "outputs": [
        {
          "output_type": "stream",
          "name": "stdout",
          "text": [
            "HelloWorld\n"
          ]
        }
      ]
    },
    {
      "cell_type": "markdown",
      "source": [
        "##Step 6: Create a list"
      ],
      "metadata": {
        "id": "AzBVd3nqcRi3"
      }
    },
    {
      "cell_type": "code",
      "source": [
        "sampleList = [3, 5, 6, 18, 10]"
      ],
      "metadata": {
        "id": "fRRDLx4scVOy"
      },
      "execution_count": null,
      "outputs": []
    },
    {
      "cell_type": "markdown",
      "source": [
        "###Step 6.1: Find the length of above list."
      ],
      "metadata": {
        "id": "yuQDwIemcZlw"
      }
    },
    {
      "cell_type": "code",
      "source": [
        "print(len(sampleList))"
      ],
      "metadata": {
        "colab": {
          "base_uri": "https://localhost:8080/"
        },
        "id": "EV-sWSF3celQ",
        "outputId": "55d06b12-9194-4077-e452-40471c1d9944"
      },
      "execution_count": null,
      "outputs": [
        {
          "output_type": "stream",
          "name": "stdout",
          "text": [
            "5\n"
          ]
        }
      ]
    },
    {
      "cell_type": "markdown",
      "source": [
        "###Step 6.2: Iterate above list using for loop."
      ],
      "metadata": {
        "id": "9_FGWJ5ncllJ"
      }
    },
    {
      "cell_type": "code",
      "source": [
        "for i in sampleList:\n",
        "  print(i)"
      ],
      "metadata": {
        "colab": {
          "base_uri": "https://localhost:8080/"
        },
        "id": "u1ydK1xAcpFc",
        "outputId": "249b0df9-2779-4395-e9db-15bcbb33e0ca"
      },
      "execution_count": null,
      "outputs": [
        {
          "output_type": "stream",
          "name": "stdout",
          "text": [
            "3\n",
            "5\n",
            "6\n",
            "18\n",
            "10\n"
          ]
        }
      ]
    },
    {
      "cell_type": "markdown",
      "source": [
        "###Step 6.3: Add another element in to above list"
      ],
      "metadata": {
        "id": "UsUdylzXe8Tw"
      }
    },
    {
      "cell_type": "code",
      "source": [
        "sampleList.append(22)"
      ],
      "metadata": {
        "id": "AQBftfO9e_82"
      },
      "execution_count": null,
      "outputs": []
    },
    {
      "cell_type": "markdown",
      "source": [
        "###Sep 6.4: Remove one element from above list"
      ],
      "metadata": {
        "id": "zH5cNE6vfC6s"
      }
    },
    {
      "cell_type": "code",
      "source": [
        "sampleList.remove(3)"
      ],
      "metadata": {
        "id": "eVm1zYuGfXUL"
      },
      "execution_count": null,
      "outputs": []
    },
    {
      "cell_type": "markdown",
      "source": [
        "###Step 6.5: Find the minimum and maximum numbers exists in above list."
      ],
      "metadata": {
        "id": "0k3Bxp3tfbY2"
      }
    },
    {
      "cell_type": "code",
      "source": [
        "print(min(sampleList))\n",
        "print(max(sampleList))"
      ],
      "metadata": {
        "colab": {
          "base_uri": "https://localhost:8080/"
        },
        "id": "J37OQOrAfiEc",
        "outputId": "5d9ac334-dd9e-4154-8586-ffadd07f94c4"
      },
      "execution_count": null,
      "outputs": [
        {
          "output_type": "stream",
          "name": "stdout",
          "text": [
            "5\n",
            "22\n"
          ]
        }
      ]
    },
    {
      "cell_type": "markdown",
      "source": [
        "##Step 7: Getting input as a string from User"
      ],
      "metadata": {
        "id": "15QcG8nafk4I"
      }
    },
    {
      "cell_type": "code",
      "source": [
        "name = input(\"Enter your name:\")"
      ],
      "metadata": {
        "colab": {
          "base_uri": "https://localhost:8080/"
        },
        "id": "ALwxyKsPfoaL",
        "outputId": "ccb07397-ac79-4063-e119-216ea91275f5"
      },
      "execution_count": null,
      "outputs": [
        {
          "name": "stdout",
          "output_type": "stream",
          "text": [
            "Enter your name:youssef\n"
          ]
        }
      ]
    },
    {
      "cell_type": "markdown",
      "source": [
        "##Step 8: Displaying output: string"
      ],
      "metadata": {
        "id": "5gMFFsB8fs-3"
      }
    },
    {
      "cell_type": "code",
      "source": [
        "print(\"Hello \" + name + \" ! \")"
      ],
      "metadata": {
        "colab": {
          "base_uri": "https://localhost:8080/"
        },
        "id": "hCgP5q7qfwUr",
        "outputId": "bd7bdb65-29c6-4d08-aa5e-fa6d75c6a023"
      },
      "execution_count": null,
      "outputs": [
        {
          "output_type": "stream",
          "name": "stdout",
          "text": [
            "Hello youssef ! \n"
          ]
        }
      ]
    },
    {
      "cell_type": "markdown",
      "source": [
        "##Step 9: Getting input as a int from User"
      ],
      "metadata": {
        "id": "AKxZB5ltfy3-"
      }
    },
    {
      "cell_type": "code",
      "source": [
        "num = int(input(\"Enter a number: \"))"
      ],
      "metadata": {
        "colab": {
          "base_uri": "https://localhost:8080/"
        },
        "id": "jWkfvfBLf3G2",
        "outputId": "ef6fcb41-0f6e-4fdc-91e8-fda9e8681978"
      },
      "execution_count": null,
      "outputs": [
        {
          "name": "stdout",
          "output_type": "stream",
          "text": [
            "Enter a number: 7\n"
          ]
        }
      ]
    },
    {
      "cell_type": "markdown",
      "source": [
        "##Step 10: Dispay the input"
      ],
      "metadata": {
        "id": "NV4JwUSJgJma"
      }
    },
    {
      "cell_type": "code",
      "source": [
        "print(num)"
      ],
      "metadata": {
        "colab": {
          "base_uri": "https://localhost:8080/"
        },
        "id": "yHBdU8m_gPlM",
        "outputId": "dd197b4a-1d2b-401f-df96-6d328b8752a1"
      },
      "execution_count": null,
      "outputs": [
        {
          "output_type": "stream",
          "name": "stdout",
          "text": [
            "7\n"
          ]
        }
      ]
    },
    {
      "cell_type": "markdown",
      "source": [
        "##Step 11: Different ways to print int and string"
      ],
      "metadata": {
        "id": "QpTOMvLbgTpZ"
      }
    },
    {
      "cell_type": "code",
      "source": [
        "a = 20\n",
        "b = 10\n",
        "sum = a + b\n",
        "# Several ways to print\n",
        "print(\"The total sum of values a and b is: {}\".format(sum))\n",
        "print(\"The total sum of values a and b is: %d\" %sum)\n",
        "print(\"The total sum of values a and b is:\", sum)"
      ],
      "metadata": {
        "colab": {
          "base_uri": "https://localhost:8080/"
        },
        "id": "LudCOcNXgXfu",
        "outputId": "fe580c34-ee32-4938-a914-595f6d325fc7"
      },
      "execution_count": null,
      "outputs": [
        {
          "output_type": "stream",
          "name": "stdout",
          "text": [
            "The total sum of values a and b is: 30\n",
            "The total sum of values a and b is: 30\n",
            "The total sum of values a and b is: 30\n"
          ]
        }
      ]
    },
    {
      "cell_type": "markdown",
      "source": [
        "##Step 12: Getting multiple inputs from the user:"
      ],
      "metadata": {
        "id": "VYfBRUyagrzO"
      }
    },
    {
      "cell_type": "code",
      "source": [
        "a, b, c = input(\"Enter any three values: \").split()\n",
        "print(\"First number: \", a)\n",
        "print(\"Second number: \", b)\n",
        "print(\"Third number: \", c)"
      ],
      "metadata": {
        "colab": {
          "base_uri": "https://localhost:8080/"
        },
        "id": "rEljZH6Jgt6G",
        "outputId": "b5305fbe-9909-43c6-f44b-172b0d536ec9"
      },
      "execution_count": null,
      "outputs": [
        {
          "output_type": "stream",
          "name": "stdout",
          "text": [
            "Enter any three values: 2 3 5\n",
            "First number:  2\n",
            "Second number:  3\n",
            "Third number:  5\n"
          ]
        }
      ]
    },
    {
      "cell_type": "markdown",
      "source": [
        "##Step 13: Define a function using \"def\""
      ],
      "metadata": {
        "id": "kK8Gcq_3gxpM"
      }
    },
    {
      "cell_type": "code",
      "source": [
        "def HelloWorld():\n",
        "  print(\"Hello World\")"
      ],
      "metadata": {
        "id": "ebsZjDeqg1F-"
      },
      "execution_count": null,
      "outputs": []
    },
    {
      "cell_type": "markdown",
      "source": [
        "##Step 14: Call the above function"
      ],
      "metadata": {
        "id": "Lqs4VAuOg5Yv"
      }
    },
    {
      "cell_type": "code",
      "source": [
        "HelloWorld()"
      ],
      "metadata": {
        "colab": {
          "base_uri": "https://localhost:8080/"
        },
        "id": "xAwuhD2zg9cG",
        "outputId": "f23c5b8d-3bda-444c-c979-417677d2d40e"
      },
      "execution_count": null,
      "outputs": [
        {
          "output_type": "stream",
          "name": "stdout",
          "text": [
            "Hello World\n"
          ]
        }
      ]
    },
    {
      "cell_type": "markdown",
      "source": [
        "#Topic 3 : Advanced Python Programming"
      ],
      "metadata": {
        "id": "uvCZQwuWhAgu"
      }
    },
    {
      "cell_type": "markdown",
      "source": [
        "##1. pip install Command:"
      ],
      "metadata": {
        "id": "_Ow2kBDchzrc"
      }
    },
    {
      "cell_type": "code",
      "source": [
        "## Syntax: !pip install package-name\n",
        "Example: !pip install pami"
      ],
      "metadata": {
        "id": "FFEJ0Sqv6ZGt"
      },
      "execution_count": null,
      "outputs": []
    },
    {
      "cell_type": "markdown",
      "source": [
        "##2. Reading and Processing .CSV file:"
      ],
      "metadata": {
        "id": "vL_lEVyWlMxQ"
      }
    },
    {
      "cell_type": "code",
      "source": [
        "# Reading a .csv file\n",
        "import csv\n",
        "file = open('fileName.csv')\n",
        "csvreader = csv.reader(file)\n",
        "# Printing Column names in csv file\n",
        "header = next(csvreader)\n",
        "print(header)"
      ],
      "metadata": {
        "id": "79bv207z6NTY"
      },
      "execution_count": null,
      "outputs": []
    },
    {
      "cell_type": "markdown",
      "source": [
        "##3. Reading CSV with pandas:"
      ],
      "metadata": {
        "id": "vE81L-mYlSI_"
      }
    },
    {
      "cell_type": "code",
      "source": [
        "# Reading csv file into a dataframe\n",
        "import pandas as pd\n",
        "df = pd.read_csv('inputFileName.csv')\n",
        "# If you get error to open the file using the above code give absolute pa\n",
        "# df = pd.read_csv('Exercise_1/inputFileName.csv')\n",
        "# You can get absolute path by right click -> copy path.\n",
        "# Printing the first rows of dataframe\n",
        "print(df.head())\n",
        "# Printing the column names\n",
        "print(df.columns)\n",
        "# Dropping columns from dataframe\n",
        "print(df.drop('stationId', axis=1))\n",
        "# Printing number of rows and columns in dataframe\n",
        "print(df.shape)"
      ],
      "metadata": {
        "id": "nsgH5M_16Fo4"
      },
      "execution_count": null,
      "outputs": []
    },
    {
      "cell_type": "markdown",
      "source": [
        "##4. How to add code description?"
      ],
      "metadata": {
        "id": "IUAjSQ7emqta"
      }
    },
    {
      "cell_type": "code",
      "source": [
        "# Add the description about the code using comments.\n",
        "def hello_world():\n",
        "# A simple comment preceding a simple print statement\n",
        "  print(\"Hello World\")"
      ],
      "metadata": {
        "id": "64Cj5GXJmtcK"
      },
      "execution_count": null,
      "outputs": []
    }
  ]
}